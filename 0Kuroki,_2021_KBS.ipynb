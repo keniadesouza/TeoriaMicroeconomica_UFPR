{
 "cells": [
  {
   "cell_type": "markdown",
   "metadata": {
    "id": "TjK6qFOgRggX"
   },
   "source": [
    "# Microeconomics in Python (Kuroki, 2021)"
   ]
  },
  {
   "cell_type": "code",
   "execution_count": 1,
   "metadata": {
    "id": "bD5H1g0GaDoE"
   },
   "outputs": [],
   "source": [
    "from sympy import *"
   ]
  },
  {
   "cell_type": "markdown",
   "metadata": {
    "id": "yFhFDrLdd7uo"
   },
   "source": [
    "## Exemplo -1: Receita Total"
   ]
  },
  {
   "cell_type": "code",
   "execution_count": 2,
   "metadata": {
    "colab": {
     "base_uri": "https://localhost:8080/",
     "height": 38
    },
    "id": "d8P0GWI6aojO",
    "outputId": "7d8d810c-3933-46e8-a705-7ce8aeb3eefe"
   },
   "outputs": [
    {
     "data": {
      "text/latex": [
       "$\\displaystyle 100 - 2 Q$"
      ],
      "text/plain": [
       "100 - 2*Q"
      ]
     },
     "execution_count": 2,
     "metadata": {},
     "output_type": "execute_result"
    }
   ],
   "source": [
    "# Definindo a função de demanda\n",
    "Q = symbols('Q') # Define Q como símbolo\n",
    "P = 100 - 2*Q    # Define a função de demanda\n",
    "P                # Mostra a demanda"
   ]
  },
  {
   "cell_type": "code",
   "execution_count": 3,
   "metadata": {
    "colab": {
     "base_uri": "https://localhost:8080/",
     "height": 38
    },
    "id": "qK91pY-wbJv2",
    "outputId": "fb524df9-e776-4789-d8a8-0f5ab5a7003f"
   },
   "outputs": [
    {
     "data": {
      "text/latex": [
       "$\\displaystyle Q \\left(100 - 2 Q\\right)$"
      ],
      "text/plain": [
       "Q*(100 - 2*Q)"
      ]
     },
     "execution_count": 3,
     "metadata": {},
     "output_type": "execute_result"
    }
   ],
   "source": [
    "# Definir a receita total\n",
    "RT = P*Q \n",
    "RT"
   ]
  },
  {
   "cell_type": "code",
   "execution_count": 4,
   "metadata": {
    "colab": {
     "base_uri": "https://localhost:8080/",
     "height": 38
    },
    "id": "POE7DWCnbV8X",
    "outputId": "886fb4a7-6dcd-4f42-ced2-183e51eb0a06"
   },
   "outputs": [
    {
     "data": {
      "text/latex": [
       "$\\displaystyle 100 - 4 Q$"
      ],
      "text/plain": [
       "100 - 4*Q"
      ]
     },
     "execution_count": 4,
     "metadata": {},
     "output_type": "execute_result"
    }
   ],
   "source": [
    "# Primeira derivada da função de receita. Função diff(y(x), x) - diferencia a função y(x) em relação a x\n",
    "diff(RT, Q)"
   ]
  },
  {
   "cell_type": "code",
   "execution_count": 5,
   "metadata": {
    "colab": {
     "base_uri": "https://localhost:8080/"
    },
    "id": "kRhNRI9pbzOi",
    "outputId": "79719d78-b036-4042-8b1e-d916936aa7b1"
   },
   "outputs": [
    {
     "data": {
      "text/plain": [
       "[25]"
      ]
     },
     "execution_count": 5,
     "metadata": {},
     "output_type": "execute_result"
    }
   ],
   "source": [
    "# Primeira derivada igual a zero: função solve. Vamos usar diff dentro de solve (outra forma seria salvar o resultado anterior e colocar dentro da função solve)\n",
    "solve(diff(RT, Q))"
   ]
  },
  {
   "cell_type": "code",
   "execution_count": 6,
   "metadata": {
    "colab": {
     "base_uri": "https://localhost:8080/",
     "height": 315
    },
    "id": "mSgbfnAkcWhN",
    "outputId": "cf7edf14-84ce-41b8-f966-68adfc9407ae"
   },
   "outputs": [
    {
     "data": {
      "image/png": "[encoded data removed]",
      "text/plain": [
       "<Figure size 432x288 with 1 Axes>"
      ]
     },
     "metadata": {
      "needs_background": "light"
     },
     "output_type": "display_data"
    },
    {
     "data": {
      "text/plain": [
       "<sympy.plotting.plot.Plot at 0x1fd380d10d0>"
      ]
     },
     "execution_count": 6,
     "metadata": {},
     "output_type": "execute_result"
    }
   ],
   "source": [
    "plot(RT, (Q, 0, 50), ylim = (0, 1500), xlim = (0, 55), title = \"Receita total\", xlabel = \"Quantidade\", ylabel = \"Receita\")"
   ]
  },
  {
   "cell_type": "markdown",
   "metadata": {
    "id": "9_j4mGqReOQL"
   },
   "source": [
    "## Exemplo 0: Minimização de custos\n",
    "\n",
    "$CT = 5600 + 27Q - 6Q^2 + 0.5Q^3$\n",
    "\n",
    "Dois resultados nesse exemplo. "
   ]
  },
  {
   "cell_type": "code",
   "execution_count": 7,
   "metadata": {
    "colab": {
     "base_uri": "https://localhost:8080/",
     "height": 38
    },
    "id": "uOwAr9_8eWhP",
    "outputId": "7316fddb-9ff1-4b36-8ae5-23102439aaec"
   },
   "outputs": [
    {
     "data": {
      "text/latex": [
       "$\\displaystyle 0.5 Q^{3} - 6 Q^{2} + 27 Q + 5600$"
      ],
      "text/plain": [
       "0.5*Q**3 - 6*Q**2 + 27*Q + 5600"
      ]
     },
     "execution_count": 7,
     "metadata": {},
     "output_type": "execute_result"
    }
   ],
   "source": [
    "Q = symbols('Q', positive = True) # Define Q como símbolo, e não negativo, outra forma seria incluir nonnegative = True\n",
    "CT = 5600 + 27*Q - 6*Q**2 + 0.5*Q**3\n",
    "CT"
   ]
  },
  {
   "cell_type": "code",
   "execution_count": 8,
   "metadata": {
    "colab": {
     "base_uri": "https://localhost:8080/",
     "height": 57
    },
    "id": "7G-TCRG8evU_",
    "outputId": "abc35b55-4794-49ec-eca9-780190cd8e81"
   },
   "outputs": [
    {
     "data": {
      "text/latex": [
       "$\\displaystyle \\frac{0.5 Q^{3} - 6 Q^{2} + 27 Q + 5600}{Q}$"
      ],
      "text/plain": [
       "(0.5*Q**3 - 6*Q**2 + 27*Q + 5600)/Q"
      ]
     },
     "execution_count": 8,
     "metadata": {},
     "output_type": "execute_result"
    }
   ],
   "source": [
    "CTM = CT/Q\n",
    "CTM"
   ]
  },
  {
   "cell_type": "code",
   "execution_count": 9,
   "metadata": {
    "colab": {
     "base_uri": "https://localhost:8080/",
     "height": 57
    },
    "id": "UP8Za2Nze5XW",
    "outputId": "b68cd17f-9fd9-49d4-8d0f-a348eb2707ce"
   },
   "outputs": [
    {
     "data": {
      "text/latex": [
       "$\\displaystyle \\frac{1.5 Q^{2} - 12 Q + 27}{Q} - \\frac{0.5 Q^{3} - 6 Q^{2} + 27 Q + 5600}{Q^{2}}$"
      ],
      "text/plain": [
       "(1.5*Q**2 - 12*Q + 27)/Q - (0.5*Q**3 - 6*Q**2 + 27*Q + 5600)/Q**2"
      ]
     },
     "execution_count": 9,
     "metadata": {},
     "output_type": "execute_result"
    }
   ],
   "source": [
    "dCTM = diff(CTM, Q)\n",
    "dCTM"
   ]
  },
  {
   "cell_type": "code",
   "execution_count": 10,
   "metadata": {
    "colab": {
     "base_uri": "https://localhost:8080/"
    },
    "id": "NWF-l7jufDi6",
    "outputId": "a5202db0-e3ed-4640-c6bc-3de69eb365d3"
   },
   "outputs": [
    {
     "data": {
      "text/plain": [
       "[20.0000000000000]"
      ]
     },
     "execution_count": 10,
     "metadata": {},
     "output_type": "execute_result"
    }
   ],
   "source": [
    "solve(dCTM)"
   ]
  },
  {
   "cell_type": "markdown",
   "metadata": {
    "id": "bit_DtVsgUk7"
   },
   "source": [
    "## Exemplo 1: Maximização da utilidade:\n",
    "\n",
    "$ U = 8X^{0.5}Y^{0.5}$"
   ]
  },
  {
   "cell_type": "code",
   "execution_count": 11,
   "metadata": {
    "id": "aD62qdY6gSYX"
   },
   "outputs": [],
   "source": [
    "X, Y = symbols('X, Y')\n",
    "U = 8*X**0.5*Y**0.5"
   ]
  },
  {
   "cell_type": "code",
   "execution_count": 12,
   "metadata": {
    "id": "Y3uzZxB5gIJN"
   },
   "outputs": [],
   "source": [
    "Px = 10\n",
    "Py = 8\n",
    "m = 400"
   ]
  },
  {
   "cell_type": "code",
   "execution_count": 13,
   "metadata": {
    "id": "t6Nud8xxfjwD"
   },
   "outputs": [],
   "source": [
    "RO = Eq(m, Px*X + Py*Y)"
   ]
  },
  {
   "cell_type": "code",
   "execution_count": 14,
   "metadata": {
    "colab": {
     "base_uri": "https://localhost:8080/"
    },
    "id": "HqySRIeuh6qN",
    "outputId": "98ff00d4-a62c-4dd8-cab7-9d9987b1f847"
   },
   "outputs": [
    {
     "data": {
      "text/plain": [
       "{X: 20.0000000000000, Y: 25.0000000000000}"
      ]
     },
     "execution_count": 14,
     "metadata": {},
     "output_type": "execute_result"
    }
   ],
   "source": [
    "TMS = Eq(diff(U,X)/diff(U,Y), Px/Py) # Taxa marginal de substituição é igual a razão de preços\n",
    "solve((TMS, RO))"
   ]
  },
  {
   "cell_type": "code",
   "execution_count": 15,
   "metadata": {
    "colab": {
     "base_uri": "https://localhost:8080/",
     "height": 315
    },
    "id": "8ZLa8vi9u8O2",
    "outputId": "a4848f24-f4be-45d0-e786-1d7880ce0617"
   },
   "outputs": [
    {
     "data": {
      "image/png": "[encoded data removed]",
      "text/plain": [
       "<Figure size 432x288 with 1 Axes>"
      ]
     },
     "metadata": {
      "needs_background": "light"
     },
     "output_type": "display_data"
    },
    {
     "data": {
      "text/plain": [
       "<sympy.plotting.plot.Plot at 0x1fd3ab00040>"
      ]
     },
     "execution_count": 15,
     "metadata": {},
     "output_type": "execute_result"
    }
   ],
   "source": [
    "# Ponto de maximização \n",
    "maxU = U.subs({X: 20, Y: 25})\n",
    "# ou maxU = U.subs([(X, 20), (Y, 25)])\n",
    "RO2 = (m-Px*X)/Py\n",
    "indif = (maxU/(8*sqrt(X)))**2\n",
    "plot(RO2, indif, (X, 0, 60), ylim = (0, 60), xlim = (0, 60), xlabel = 'X', ylabel ='Y')"
   ]
  },
  {
   "cell_type": "markdown",
   "metadata": {
    "id": "D76gyhaMz7dY"
   },
   "source": [
    "## Exemplo 2: Equilíbrio Geral\n",
    "\n",
    "$U_A(X, Y)=X^2Y$\n",
    "\n",
    "$U_B(X,Y)=3ln(X)+2Y$\n",
    "\n"
   ]
  },
  {
   "cell_type": "code",
   "execution_count": 16,
   "metadata": {
    "colab": {
     "base_uri": "https://localhost:8080/"
    },
    "id": "9-cd7cdtvQFx",
    "outputId": "e3807b79-6448-41f5-a010-923be8593413"
   },
   "outputs": [
    {
     "data": {
      "text/plain": [
       "[{Py: 2/3, xA: 6, xB: 1, yA: 9/2, yB: 5/2}]"
      ]
     },
     "execution_count": 16,
     "metadata": {},
     "output_type": "execute_result"
    }
   ],
   "source": [
    "Px, Py, xA, xB, yA, yB = symbols('Px, Py, xA, xB, yA, yB', positive=True)\n",
    "UA = (xA**2)*yA\n",
    "UB = 3*log(xB)+2*yB\n",
    "WxA, WxB = 7, 0 # Dotação de A e B para X\n",
    "WyA, WyB = 3, 4 # Dotação de A e B para Y\n",
    "Px = 1\n",
    "xO = WxA + WxB # Oferta total de X\n",
    "yO = WyA + WyB # Oferta total de Y\n",
    "xD = xA + xB # Demanda total por X\n",
    "yD = yA + yB # Demanda total por Y\n",
    "RendaA = Px*WxA + Py*WyA # Renda de A\n",
    "RendaB = Px*WxB + Py*WyB # Renda de B\n",
    "GastoA = Px*xA + Py*yA # Gasto de A\n",
    "GastoB = Px*xB + Py*yB # Gasto de B\n",
    "EqA = Eq(diff(UA, xA)/diff(UA, yA), Px/Py) # Equilíbrio para A: TMS = razão de preços\n",
    "EqB = Eq(diff(UB, xB)/diff(UB, yB), Px/Py) # Equilíbrio para A: TMS = razão de preços\n",
    "ROA = Eq(RendaA, GastoA) # Restrição Orçamentária de A\n",
    "ROB = Eq(RendaB, GastoB) # Restrição Orçamentária de B\n",
    "EqX = Eq(xO, xD) # Equilíbrio no mercado de X\n",
    "EqY = Eq(yO, yD) # Equilíbrio no mercado de Y\n",
    "solve((EqA, EqB, ROA, ROB, EqX, EqY))"
   ]
  },
  {
   "cell_type": "markdown",
   "metadata": {
    "id": "DUjENug0219M"
   },
   "source": [
    "# Exemplo 3: Minimização dos custos\n",
    "\n",
    "$ Q = 16L^{0.5}K^{0.5} $"
   ]
  },
  {
   "cell_type": "code",
   "execution_count": 17,
   "metadata": {
    "colab": {
     "base_uri": "https://localhost:8080/"
    },
    "id": "6pqbz54U0AMw",
    "outputId": "4bf25098-7412-465d-99e6-2249ecca04bb"
   },
   "outputs": [
    {
     "data": {
      "text/plain": [
       "[{K: 100.000000000000, L: 400.000000000000}]"
      ]
     },
     "execution_count": 17,
     "metadata": {},
     "output_type": "execute_result"
    }
   ],
   "source": [
    "L, K = symbols('L, K')\n",
    "Q = 16*L**0.5*K**0.5 # Função de produção\n",
    "w, r = 5, 20 # Preço do trabalho e do capital\n",
    "diff(Q, L)/diff(Q, K)\n",
    "Equil = Eq(diff(Q, L)/diff(Q, K), w/r) # Condição de minimização\n",
    "prod = Eq(Q, 3200) # Definir Q = 3200\n",
    "solve((Equil, prod))"
   ]
  },
  {
   "cell_type": "code",
   "execution_count": 18,
   "metadata": {
    "colab": {
     "base_uri": "https://localhost:8080/",
     "height": 315
    },
    "id": "rJllxdhk5Ip-",
    "outputId": "b8c70c78-96d5-4175-9f2b-982a678deb8f"
   },
   "outputs": [
    {
     "data": {
      "image/png": "[encoded data removed]",
      "text/plain": [
       "<Figure size 432x288 with 1 Axes>"
      ]
     },
     "metadata": {
      "needs_background": "light"
     },
     "output_type": "display_data"
    },
    {
     "data": {
      "text/plain": [
       "<sympy.plotting.plot.Plot at 0x1fd3aac8cd0>"
      ]
     },
     "execution_count": 18,
     "metadata": {},
     "output_type": "execute_result"
    }
   ],
   "source": [
    "custo = w*400 + r*100\n",
    "isoquanta = (3200/(16*sqrt(L)))**2\n",
    "isocusto = (custo - w*L)/r\n",
    "plot(isoquanta, isocusto, (L, 0, 1000), ylim = (0, 500), xlim = (0, 1000), xlabel = 'Trabalho', ylabel = 'Capital')"
   ]
  },
  {
   "cell_type": "markdown",
   "metadata": {
    "id": "MmVClJW8AL6i"
   },
   "source": [
    "# Exemplo 4: Mercados competitivos\n",
    "\n",
    "$ CT = 12500 + 10Q + 0.05Q^2 $"
   ]
  },
  {
   "cell_type": "code",
   "execution_count": 19,
   "metadata": {
    "colab": {
     "base_uri": "https://localhost:8080/"
    },
    "id": "QcyqhUMD6yYe",
    "outputId": "60ce5d52-1682-4716-a5a5-60cac44924ad"
   },
   "outputs": [
    {
     "data": {
      "text/plain": [
       "[700.000000000000]"
      ]
     },
     "execution_count": 19,
     "metadata": {},
     "output_type": "execute_result"
    }
   ],
   "source": [
    "Q = symbols('Q')\n",
    "P = 80\n",
    "CT = 12500 + 10*Q + 0.05*Q**2\n",
    "CMg = diff(CT, Q)\n",
    "solve(Eq(P, CMg))"
   ]
  },
  {
   "cell_type": "code",
   "execution_count": 20,
   "metadata": {
    "colab": {
     "base_uri": "https://localhost:8080/"
    },
    "id": "HgdDYae1_oR7",
    "outputId": "81584777-22dd-40ff-9353-93232b88b727"
   },
   "outputs": [
    {
     "data": {
      "text/plain": [
       "[700.000000000000]"
      ]
     },
     "execution_count": 20,
     "metadata": {},
     "output_type": "execute_result"
    }
   ],
   "source": [
    "# Outra forma de resolver, usando a derivada primeira da função de lucro: \n",
    "Lucro = P*Q - CT\n",
    "solve(diff(Lucro, Q))"
   ]
  },
  {
   "cell_type": "code",
   "execution_count": 21,
   "metadata": {
    "colab": {
     "base_uri": "https://localhost:8080/",
     "height": 315
    },
    "id": "uF0xGq39AwoA",
    "outputId": "379061a0-4c0c-4b67-9c74-6ebfc6416ca2"
   },
   "outputs": [
    {
     "data": {
      "image/png": "[encoded data removed]",
      "text/plain": [
       "<Figure size 432x288 with 1 Axes>"
      ]
     },
     "metadata": {
      "needs_background": "light"
     },
     "output_type": "display_data"
    },
    {
     "data": {
      "text/plain": [
       "<sympy.plotting.plot.Plot at 0x1fd3ac04580>"
      ]
     },
     "execution_count": 21,
     "metadata": {},
     "output_type": "execute_result"
    }
   ],
   "source": [
    "CMe = CT/Q\n",
    "plot(P, CMg, CMe, (Q, 0, 1000), ylim=(0,100), xlim=(0,1000), xlabel=\"Quantidade\", ylabel=\"Preços\")"
   ]
  },
  {
   "cell_type": "markdown",
   "metadata": {
    "id": "VzxtgtobDLTc"
   },
   "source": [
    "# Exemplo 5: Monopólio\n",
    "\n",
    "Função de demanda:\n",
    "\n",
    "$ P = 50 - 0.005Q $\n",
    "\n",
    "Custo total do monopolista: \n",
    "\n",
    "$ CT = 12000 + 20Q + 0.0025Q^2$"
   ]
  },
  {
   "cell_type": "code",
   "execution_count": 22,
   "metadata": {
    "colab": {
     "base_uri": "https://localhost:8080/"
    },
    "id": "HcRx3yrhBMCI",
    "outputId": "750a8c18-d8cf-4b10-fd28-50598ac1d8e5"
   },
   "outputs": [
    {
     "data": {
      "text/plain": [
       "[2000.00000000000]"
      ]
     },
     "execution_count": 22,
     "metadata": {},
     "output_type": "execute_result"
    }
   ],
   "source": [
    "Q = symbols('Q')\n",
    "P = 50 - 0.005*Q\n",
    "RT = P*Q\n",
    "CT = 12000 + 20*Q + 0.0025*Q**2\n",
    "RMg = diff(RT, Q)\n",
    "CMg = diff(CT, Q)\n",
    "solve(Eq(RMg, CMg))"
   ]
  },
  {
   "cell_type": "code",
   "execution_count": 23,
   "metadata": {
    "colab": {
     "base_uri": "https://localhost:8080/"
    },
    "id": "9kTGwHEVDPKX",
    "outputId": "1a99c2aa-5d81-4bbf-e06c-56064d586b78"
   },
   "outputs": [
    {
     "data": {
      "text/plain": [
       "[2000.00000000000]"
      ]
     },
     "execution_count": 23,
     "metadata": {},
     "output_type": "execute_result"
    }
   ],
   "source": [
    "Lucro = RT - CT\n",
    "solve(diff(Lucro, Q))"
   ]
  },
  {
   "cell_type": "code",
   "execution_count": 24,
   "metadata": {
    "colab": {
     "base_uri": "https://localhost:8080/",
     "height": 315
    },
    "id": "Gj8gLNUHD11r",
    "outputId": "a27a5f71-9b1c-4428-8cc4-3dbd279794d6"
   },
   "outputs": [
    {
     "data": {
      "image/png": "[encoded data removed]",
      "text/plain": [
       "<Figure size 432x288 with 1 Axes>"
      ]
     },
     "metadata": {
      "needs_background": "light"
     },
     "output_type": "display_data"
    },
    {
     "data": {
      "text/plain": [
       "<sympy.plotting.plot.Plot at 0x1fd3ac9d370>"
      ]
     },
     "execution_count": 24,
     "metadata": {},
     "output_type": "execute_result"
    }
   ],
   "source": [
    "CMe = CT/Q\n",
    "plot(RMg, P, CMg, CMe, (Q, 0, 10000), ylim = (0, 50), xlim = (0, 10000), xlabel = \"Quantidade\", ylabel = \"Preço\" )"
   ]
  },
  {
   "cell_type": "markdown",
   "metadata": {
    "id": "Glz44HSyEt73"
   },
   "source": [
    "# Exemplo 6: Discriminação de preços de terceiro grau\n",
    "\n",
    "Função demanda inversa de A: \n",
    "\n",
    "$ Pa = 100 - 0.2Qa $\n",
    "\n",
    "Função demanda inversa de B: \n",
    "\n",
    "$ Pb = 80 - 0.1Qb $\n",
    "\n",
    "Custo total: \n",
    "\n",
    "$ CT = 14000 + 5Q + 0.05Q^2 $\n",
    "\n"
   ]
  },
  {
   "cell_type": "code",
   "execution_count": 25,
   "metadata": {
    "colab": {
     "base_uri": "https://localhost:8080/"
    },
    "id": "E9O2qtHZEPC4",
    "outputId": "f12a4c03-533e-46d6-f3fa-540e3733e803"
   },
   "outputs": [
    {
     "data": {
      "text/plain": [
       "{Qa: 150.000000000000, Qb: 200.000000000000}"
      ]
     },
     "execution_count": 25,
     "metadata": {},
     "output_type": "execute_result"
    }
   ],
   "source": [
    "Qa, Qb = symbols('Qa, Qb')\n",
    "Q = Qa + Qb # Quantidade total\n",
    "Pa = 100 - 0.2*Qa # Demanda de A\n",
    "Pb = 80 - 0.1*Qb # Demanda de B\n",
    "RTa = Pa*Qa # Receita total de A\n",
    "RTb = Pb*Qb # Receita total de B\n",
    "CT = 14000 + 5*Q + 0.05*Q**2 # Custo total\n",
    "RMga = diff(RTa, Qa) # Receita Marginal de A\n",
    "RMgb = diff(RTb, Qb) # Receita Marginal de B\n",
    "CMga = diff(CT, Qa) # Custo Marginal de A\n",
    "CMgb = diff(CT, Qb) # Custo Marginal de B\n",
    "solve((Eq(RMga, CMga), Eq(RMgb, CMgb)))"
   ]
  },
  {
   "cell_type": "code",
   "execution_count": 26,
   "metadata": {
    "id": "vquzI79gExvo"
   },
   "outputs": [],
   "source": [
    "Lucro = (RTa + RTb) - CT\n",
    "Resultado = solve((diff(Lucro, Qa), diff(Lucro, Qb)))"
   ]
  },
  {
   "cell_type": "code",
   "execution_count": 27,
   "metadata": {
    "colab": {
     "base_uri": "https://localhost:8080/",
     "height": 37
    },
    "id": "IqdIPHZROA06",
    "outputId": "feed510d-3a5d-40c7-85c4-654c7bb36b56"
   },
   "outputs": [
    {
     "data": {
      "text/latex": [
       "$\\displaystyle 70.0$"
      ],
      "text/plain": [
       "70.0000000000000"
      ]
     },
     "execution_count": 27,
     "metadata": {},
     "output_type": "execute_result"
    }
   ],
   "source": [
    "Pa.subs(Qa, Resultado[Qa])"
   ]
  },
  {
   "cell_type": "code",
   "execution_count": 28,
   "metadata": {
    "colab": {
     "base_uri": "https://localhost:8080/",
     "height": 37
    },
    "id": "CA7i8UDHOcPl",
    "outputId": "330a3eef-80ef-4252-d779-43a0c81b0d0a"
   },
   "outputs": [
    {
     "data": {
      "text/latex": [
       "$\\displaystyle 60.0$"
      ],
      "text/plain": [
       "60.0000000000000"
      ]
     },
     "execution_count": 28,
     "metadata": {},
     "output_type": "execute_result"
    }
   ],
   "source": [
    "Pb.subs(Qb, Resultado[Qb])"
   ]
  },
  {
   "cell_type": "markdown",
   "metadata": {
    "id": "Elug0McnRYZQ"
   },
   "source": [
    "# Exemplo 7: Modelo de Cournot\n",
    "\n",
    "Demanda: \n",
    "\n",
    "$ P = 120 - 0.5Q $\n",
    "\n",
    "$ CMg_1 = 20, CMg_2 = 34 $"
   ]
  },
  {
   "cell_type": "code",
   "execution_count": 29,
   "metadata": {
    "colab": {
     "base_uri": "https://localhost:8080/"
    },
    "id": "6xgVoymFQY1K",
    "outputId": "b846d45f-b19f-4a72-f50f-7003a9c398cc"
   },
   "outputs": [
    {
     "data": {
      "text/plain": [
       "{Q1: 76.0000000000000, Q2: 48.0000000000000}"
      ]
     },
     "execution_count": 29,
     "metadata": {},
     "output_type": "execute_result"
    }
   ],
   "source": [
    "Q1, Q2 = symbols('Q1, Q2')\n",
    "P = 120 - 0.5*(Q1 + Q2) # Demanda\n",
    "RT1, RT2 = P*Q1, P*Q2 # Receita marginal para 1 e 2 \n",
    "RMg1, RMg2 = diff(RT1, Q1), diff(RT2, Q2)\n",
    "CMg1, CMg2 = 20, 34\n",
    "solve((Eq(RMg1, CMg1), Eq(RMg2, CMg2)))"
   ]
  },
  {
   "cell_type": "code",
   "execution_count": 30,
   "metadata": {
    "colab": {
     "base_uri": "https://localhost:8080/",
     "height": 315
    },
    "id": "3ZmAMgTqVQTG",
    "outputId": "5fc82f89-0d85-4870-a2cd-db84ea6f405f"
   },
   "outputs": [
    {
     "data": {
      "image/png": "[encoded data removed]",
      "text/plain": [
       "<Figure size 432x288 with 1 Axes>"
      ]
     },
     "metadata": {
      "needs_background": "light"
     },
     "output_type": "display_data"
    },
    {
     "data": {
      "text/plain": [
       "<sympy.plotting.plot.Plot at 0x1fd37fa37c0>"
      ]
     },
     "execution_count": 30,
     "metadata": {},
     "output_type": "execute_result"
    }
   ],
   "source": [
    "# Funções de reação: \n",
    "Lucro1 = RT1 - (20*Q1) # Lucro de 1\n",
    "Lucro2 = RT2 - (34*Q2) # Lucro de 2\n",
    "R1 = solve(diff(Lucro1, Q1), Q1) # Função reação de 1\n",
    "R2 = solve(diff(Lucro2, Q2), Q1) # Função reação de 2\n",
    "plot(R1[0], R2[0], (Q2, 0, 200), xlim = (0, 200), ylim = (0, 172), xlabel = \"Q2\", ylabel = \"Q1\")"
   ]
  },
  {
   "cell_type": "markdown",
   "metadata": {
    "id": "tba7_xzrW5Rf"
   },
   "source": [
    "## Exemplo 8: Stackelberg\n",
    "\n",
    "Demanda: \n",
    "\n",
    "$ P = 120 - 0.5Q $\n",
    "\n",
    "$ CMg_1 = 20, CMg_2 = 34 $"
   ]
  },
  {
   "cell_type": "code",
   "execution_count": 31,
   "metadata": {
    "colab": {
     "base_uri": "https://localhost:8080/",
     "height": 37
    },
    "id": "gZMmb58vVwGm",
    "outputId": "14958e33-7b29-4e00-c2d8-f979a0f5850c"
   },
   "outputs": [
    {
     "data": {
      "text/latex": [
       "$\\displaystyle 114.0$"
      ],
      "text/plain": [
       "114.000000000000"
      ]
     },
     "execution_count": 31,
     "metadata": {},
     "output_type": "execute_result"
    }
   ],
   "source": [
    "Q1, Q2 = symbols('Q1, Q2')\n",
    "P = 120 - 0.5*(Q1 + Q2) # Demanda\n",
    "Lucro2 = P*Q2 - (34*Q2) # Lucro de 2\n",
    "R2 = solve(diff(Lucro2, Q2), Q2) # Reação da firma 2\n",
    "P1 = P.subs(Q2, R2[0]) # Firma 1 usa a reação de 2 na função de demanda\n",
    "Lucro1 = P1*Q1 - (20*Q1) # Lucro de 1\n",
    "Q1r = solve(diff(Lucro1, Q1))\n",
    "Q1r[0]"
   ]
  },
  {
   "cell_type": "code",
   "execution_count": 32,
   "metadata": {
    "colab": {
     "base_uri": "https://localhost:8080/",
     "height": 37
    },
    "id": "acGem3ICX9cP",
    "outputId": "18bd8a07-732c-4058-bf7c-6de23814727a"
   },
   "outputs": [
    {
     "data": {
      "text/latex": [
       "$\\displaystyle 29.0$"
      ],
      "text/plain": [
       "29.0000000000000"
      ]
     },
     "execution_count": 32,
     "metadata": {},
     "output_type": "execute_result"
    }
   ],
   "source": [
    "Q2r = R2[0].subs(Q1, Q1r[0])\n",
    "Q2r"
   ]
  },
  {
   "cell_type": "markdown",
   "metadata": {
    "id": "llwlcLvyY_XB"
   },
   "source": [
    "## Exemplo 9: Modelo de Bertrand\n",
    "\n",
    "$ Q_1 = 400 - 4P_1 + 2P_2 $\n",
    "\n",
    "$ Q_2 = 240 - 3P_2 + 1.5P_1 $\n",
    "\n",
    "$ CMg_1 = CMg_2 = 0 $"
   ]
  },
  {
   "cell_type": "code",
   "execution_count": 33,
   "metadata": {
    "colab": {
     "base_uri": "https://localhost:8080/"
    },
    "id": "-Iv_quCWYUyf",
    "outputId": "32e55ea1-b3a8-4a28-fd21-b078e3d1caa9"
   },
   "outputs": [
    {
     "data": {
      "text/plain": [
       "{P1: 64.0000000000000, P2: 56.0000000000000}"
      ]
     },
     "execution_count": 33,
     "metadata": {},
     "output_type": "execute_result"
    }
   ],
   "source": [
    "P1, P2 = symbols('P1, P2')\n",
    "Q1 = 400 - 4*P1 + 2*P2 # Curva de demanda de 1\n",
    "Q2 = 240 - 3*P2 + 1.5*P1  # Curva de demanda de 2\n",
    "CMg1 = diff(P1*Q1, P1) # Custo maginal de 1\n",
    "CMg2 = diff(P2*Q2, P2) # Custo marginal de 2\n",
    "solve((CMg1, CMg2)) "
   ]
  },
  {
   "cell_type": "code",
   "execution_count": 34,
   "metadata": {
    "colab": {
     "base_uri": "https://localhost:8080/",
     "height": 315
    },
    "id": "Cmf5YXdvZ_PQ",
    "outputId": "f8a49f88-3dfe-4574-fb93-9e3ebbc2ace1"
   },
   "outputs": [
    {
     "data": {
      "image/png": "[encoded data removed]",
      "text/plain": [
       "<Figure size 432x288 with 1 Axes>"
      ]
     },
     "metadata": {
      "needs_background": "light"
     },
     "output_type": "display_data"
    },
    {
     "data": {
      "text/plain": [
       "<sympy.plotting.plot.Plot at 0x1fd3addcdc0>"
      ]
     },
     "execution_count": 34,
     "metadata": {},
     "output_type": "execute_result"
    }
   ],
   "source": [
    "# Gráfico das curvas de reação no modelod e Bertrand\n",
    "P1, P2 = symbols('P1, P2')\n",
    "Lucro1, Lucro2 = P1*Q1, P2*Q2 # Lucro de cada firma\n",
    "R1 = solve(diff(Lucro1, P1), P1) # Curva de reação da firma 1\n",
    "R2 = solve(diff(Lucro2, P2), P1) # Curva de reação da firma 2\n",
    "plot(R1[0], R2[0], (P2, 0, 60), xlim = (0, 60), ylim = (0, 70), xlabel = \"P2\", ylabel = \"P1\")"
   ]
  }
 ],
 "metadata": {
  "colab": {
   "name": "Kuroki, 2021.ipynb",
   "provenance": []
  },
  "kernelspec": {
   "display_name": "Python 3 (ipykernel)",
   "language": "python",
   "name": "python3"
  },
  "language_info": {
   "codemirror_mode": {
    "name": "ipython",
    "version": 3
   },
   "file_extension": ".py",
   "mimetype": "text/x-python",
   "name": "python",
   "nbconvert_exporter": "python",
   "pygments_lexer": "ipython3",
   "version": "3.9.12"
  }
 },
 "nbformat": 4,
 "nbformat_minor": 1
}
