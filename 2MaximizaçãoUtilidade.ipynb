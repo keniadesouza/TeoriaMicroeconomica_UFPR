{
 "cells": [
  {
   "cell_type": "markdown",
   "id": "a093fbf0",
   "metadata": {},
   "source": [
    "# Teoria Microeconômica - Maximização da Utilidade\n",
    "\n",
    "## Exemplo 1:\n",
    "Um consumidor tem preferências descritas pela função $𝑈(𝑥_1,𝑥_2)=𝑥_1^{0.5}𝑥_2^{0.5}$, sendo os preços dos bens $𝑥_1$ e $𝑥_2$    representados por $𝑝_1$ e $𝑝_2$ e a renda por $𝑚$. Utilizando o método de lagrange, encontre a demanda ótima de $𝑥_1$ e $𝑥_2$."
   ]
  },
  {
   "cell_type": "code",
   "execution_count": 1,
   "id": "44005fb6",
   "metadata": {},
   "outputs": [
    {
     "name": "stdout",
     "output_type": "stream",
     "text": [
      "x1_eq = 0.5*m/p1\n",
      "x2_eq = 0.5*m/p2\n"
     ]
    }
   ],
   "source": [
    "%reset -f\n",
    "from sympy import *\n",
    "x1, x2, p1, p2, m, l = symbols('x1, x2, p1, p2, m, l', positive = True)\n",
    "U = x1**0.5*x2**0.5 # Função de utilidade\n",
    "L = U - l*(p1*x1 + p2*x2 - m) # Lagrangeado\n",
    "# Condições de primeira ordem\n",
    "E1 = Eq(diff(L,x1), 0) \n",
    "E2 = Eq(diff(L,x2), 0)\n",
    "E3 = Eq(diff(L, l), 0)\n",
    "# Resultado\n",
    "Resultado = solve((E1, E2, E3), [x1, x2, l])\n",
    "print(\"x1_eq = \" + str(Resultado[0][0]))\n",
    "print(\"x2_eq = \" + str(Resultado[0][1]))"
   ]
  },
  {
   "cell_type": "markdown",
   "id": "c10d8949",
   "metadata": {},
   "source": [
    "## Exemplo 2: \n",
    "Um consumidor tem preferências descritas pela função $𝑈(𝑥_1,𝑥_2)=2ln𝑥_1+𝑥_2$, sendo os preços dos bens $𝑥_1$ e $𝑥_2$    representados por $𝑝_1$ e $𝑝_2$ e a renda por $𝑚$. \n",
    "\n",
    "a) Utilizando o método de lagrange, encontre a demanda ótima de $𝑥_1$ e $𝑥_2$."
   ]
  },
  {
   "cell_type": "code",
   "execution_count": 2,
   "id": "669db83e",
   "metadata": {},
   "outputs": [
    {
     "name": "stdout",
     "output_type": "stream",
     "text": [
      "x1_eq = 2*p2/p1\n",
      "x2_eq = m/p2 - 2\n"
     ]
    }
   ],
   "source": [
    "%reset -f\n",
    "from sympy import *\n",
    "x1, x2, p1, p2, m, l = symbols('x1, x2, p1, p2, m, l', positive = True)\n",
    "l = symbols('l')\n",
    "U = 2*ln(x1) + x2 # Função de Utilidade\n",
    "L = U - l*(p1*x1 + p2*x2 - m) # Lagrangeano\n",
    "# Condições de primeira ordem\n",
    "E1 = Eq(diff(L,x1), 0)\n",
    "E2 = Eq(diff(L,x2), 0)\n",
    "E3 = Eq(diff(L, l), 0)\n",
    "# Resultado\n",
    "Resultado = solve((E1, E2, E3), [x1, x2, l])\n",
    "x1_eq = Resultado[0][0] # Salva a equação de x1 ótimo para as próximas perguntas\n",
    "x2_eq = Resultado[0][1] # Salva a equação de x2 ótimo para as próximas perguntas\n",
    "print(\"x1_eq = \" + str(x1_eq))\n",
    "print(\"x2_eq = \" + str(x2_eq))"
   ]
  },
  {
   "cell_type": "markdown",
   "id": "c477e3d8",
   "metadata": {},
   "source": [
    "b) Considerando $𝑝_1=10$, $𝑝_2=20$ e $𝑚=100$, quais serão as quantidades consumidas dos bens 1 e 2? "
   ]
  },
  {
   "cell_type": "code",
   "execution_count": 3,
   "id": "5744e66b",
   "metadata": {},
   "outputs": [
    {
     "name": "stdout",
     "output_type": "stream",
     "text": [
      "x1 = 4\n",
      "x2 = 3\n"
     ]
    }
   ],
   "source": [
    "x1_b = x1_eq.subs([(p1, 10), (p2, 20), (m, 100)]) # Substitui os valores de p1, p2 e m na equação de x1 ótimo\n",
    "x2_b = x2_eq.subs([(p1, 10), (p2, 20), (m, 100)]) # Substitui os valores de p1, p2 e m na equação de x2 ótimo\n",
    "print(\"x1 = \" + str(x1_b))\n",
    "print(\"x2 = \" + str(x2_b))"
   ]
  },
  {
   "cell_type": "markdown",
   "id": "a7214dd0",
   "metadata": {},
   "source": [
    "c) Para $𝑝_1=10$, $𝑝_2=20$ e $𝑚=100$ represente graficamente a escolha ótima do consumidor. "
   ]
  },
  {
   "cell_type": "code",
   "execution_count": 4,
   "id": "b3908ce0",
   "metadata": {},
   "outputs": [
    {
     "data": {
      "image/png": "[encoded data removed]",
      "text/plain": [
       "<Figure size 432x288 with 1 Axes>"
      ]
     },
     "metadata": {
      "needs_background": "light"
     },
     "output_type": "display_data"
    },
    {
     "data": {
      "text/plain": [
       "<sympy.plotting.plot.Plot at 0x218ca544520>"
      ]
     },
     "execution_count": 4,
     "metadata": {},
     "output_type": "execute_result"
    }
   ],
   "source": [
    "# Ponto de maximização sa utilidade\n",
    "maxU = U.subs({x1: x1_b, x2: x2_b}) # Nível de utilidade no ponto ótimo\n",
    "# Isolando x2 nas curvas de restrição orçamentária e de indiferença\n",
    "RO = (100-10*x1)/20 # Restrição orçamentária \n",
    "indif = maxU - 2*ln(x1) # Curva de indiferença no ponto ótimo\n",
    "plot(RO, indif, (x1, -1, 10), xlim = (0, 10), xlabel = 'x1', ylabel ='x2')"
   ]
  },
  {
   "cell_type": "markdown",
   "id": "ed424ad8",
   "metadata": {},
   "source": [
    "d) Mantendo a mesma renda e o mesmo preço para o bem 1, o que ocorre com as demandas de 1 e 2 quando o preço do bem dois reduz para 10 unidades monetárias?"
   ]
  },
  {
   "cell_type": "code",
   "execution_count": 5,
   "id": "32853490",
   "metadata": {},
   "outputs": [
    {
     "name": "stdout",
     "output_type": "stream",
     "text": [
      "x1 = 2\n",
      "x2 = 8\n"
     ]
    }
   ],
   "source": [
    "x1_d = x1_eq.subs([(p1, 10), (p2, 10), (m, 100)])\n",
    "x2_d = x2_eq.subs([(p1, 10), (p2, 10), (m, 100)])\n",
    "print(\"x1 = \" + str(x1_d))\n",
    "print(\"x2 = \" + str(x2_d))"
   ]
  },
  {
   "cell_type": "markdown",
   "id": "503a4430",
   "metadata": {},
   "source": [
    "e) Utilizando a resposta da letra mostre que o bem 2 é um bem normal."
   ]
  },
  {
   "cell_type": "code",
   "execution_count": 6,
   "id": "3120a892",
   "metadata": {},
   "outputs": [
    {
     "data": {
      "text/latex": [
       "$\\displaystyle \\frac{1}{p_{2}}$"
      ],
      "text/plain": [
       "1/p2"
      ]
     },
     "execution_count": 6,
     "metadata": {},
     "output_type": "execute_result"
    }
   ],
   "source": [
    "diff(x2_eq, m)"
   ]
  },
  {
   "cell_type": "markdown",
   "id": "7ad48f58",
   "metadata": {},
   "source": [
    "Como $p_1$ é sempre positivo, então $1/p_1>0$. \n",
    "\n",
    "Logo,  o bem 2 é um **bem normal**. "
   ]
  },
  {
   "cell_type": "markdown",
   "id": "1ce9f9da",
   "metadata": {},
   "source": [
    "## Exemplo 3: \n",
    "\n",
    "Considere um indivíduo com a seguinte função de utilidade: \n",
    "\n",
    "$$\n",
    "𝑈(𝑥_1,𝑥_2)=\\frac12ln(𝑥_1)+\\frac12ln(𝑥_2)\n",
    "$$\n",
    "\n",
    "a) Encontre a função de demanda Marshaliana de $𝑥_1$ e $𝑥_2$ quando a renda do consumidor é $m$."
   ]
  },
  {
   "cell_type": "code",
   "execution_count": 7,
   "id": "90bb5a7b",
   "metadata": {},
   "outputs": [
    {
     "name": "stdout",
     "output_type": "stream",
     "text": [
      "x1_eq = 0.5*m/p1\n",
      "x2_eq = 0.5*m/p2\n"
     ]
    }
   ],
   "source": [
    "%reset -f\n",
    "from sympy import *\n",
    "x1, x2, p1, p2, m = symbols('x1, x2, p1, p2, m', positive = True)\n",
    "l = symbols('l')\n",
    "U = 1/2*ln(x1) + 1/2*ln(x2) # Função de Utilidade\n",
    "L = U - l*(p1*x1 + p2*x2 - m) # Lagrangeano\n",
    "# Condições de primeira ordem\n",
    "E1 = Eq(diff(L,x1), 0)\n",
    "E2 = Eq(diff(L,x2), 0)\n",
    "E3 = Eq(diff(L, l), 0)\n",
    "# Resultado\n",
    "Resultado = solve((E1, E2, E3), [x1, x2, l])\n",
    "x1_eq = Resultado[0][0] # Salva a equação de x1 ótimo para as próximas perguntas\n",
    "x2_eq = Resultado[0][1] # Salva a equação de x2 ótimo para as próximas perguntas\n",
    "print(\"x1_eq = \" + str(x1_eq))\n",
    "print(\"x2_eq = \" + str(x2_eq))"
   ]
  },
  {
   "cell_type": "markdown",
   "id": "d3fabce6",
   "metadata": {},
   "source": [
    "b) Encontre as demandas líquidas de $𝑥_1$ e $𝑥_2$ quando o consumidor possui dotação $(w_1,w_2)=(100,100)$ e os preços são $(𝑝_1,𝑝_2)=(20,10)$"
   ]
  },
  {
   "cell_type": "code",
   "execution_count": 8,
   "id": "db1572da",
   "metadata": {},
   "outputs": [
    {
     "name": "stdout",
     "output_type": "stream",
     "text": [
      "Demanda bruta do bem 1 = 75.00\n",
      "Demanda bruta do bem 2 = 150.00\n",
      "Demanda líquida do bem 1 = -25.00\n",
      "Demanda líquida do bem 2 = 50.00\n"
     ]
    }
   ],
   "source": [
    "# Substituindo a dotação em m\n",
    "w1, w2 = symbols('w1, w2')\n",
    "x1 = Resultado[0][0].subs(m, p1*w1 +p2*w2)\n",
    "x2 = Resultado[0][1].subs(m, p1*w1 +p2*w2)\n",
    "# Substituindo valores para obter demanda bruta\n",
    "x1b = x1.subs([(p1, 20), (p2, 10), (w1, 100), (w2, 100)])\n",
    "x2b = x2.subs([(p1, 20), (p2, 10), (w1, 100), (w2, 100)])\n",
    "print(\"Demanda bruta do bem 1 = %.2f\" % x1b)\n",
    "print(\"Demanda bruta do bem 2 = %.2f\" % x2b)\n",
    "print(\"Demanda líquida do bem 1 = %.2f\" % (x1b - 100))\n",
    "print(\"Demanda líquida do bem 2 = %.2f\" % (x2b - 100))"
   ]
  },
  {
   "cell_type": "markdown",
   "id": "8f98b0c9",
   "metadata": {},
   "source": [
    "c) Quando o preço do bem 1 cai para R$5, o que ocorre com a demanda líquida do consumidor para ambos os bens?"
   ]
  },
  {
   "cell_type": "code",
   "execution_count": 9,
   "id": "11fe78ab",
   "metadata": {},
   "outputs": [
    {
     "name": "stdout",
     "output_type": "stream",
     "text": [
      "Demanda bruta do bem 1 = 150.00\n",
      "Demanda bruta do bem 2 = 75.00\n",
      "Demanda líquida do bem 1 = 50.00\n",
      "Demanda líquida do bem 2 = -25.00\n"
     ]
    }
   ],
   "source": [
    "# Substituindo valores para obter demanda bruta\n",
    "x1b = x1.subs([(p1, 5), (p2, 10), (w1, 100), (w2, 100)])\n",
    "x2b = x2.subs([(p1, 5), (p2, 10), (w1, 100), (w2, 100)])\n",
    "print(\"Demanda bruta do bem 1 = %.2f\" % x1b)\n",
    "print(\"Demanda bruta do bem 2 = %.2f\" % x2b)\n",
    "print(\"Demanda líquida do bem 1 = %.2f\" % (x1b - 100))\n",
    "print(\"Demanda líquida do bem 2 = %.2f\" % (x2b - 100))"
   ]
  },
  {
   "cell_type": "markdown",
   "id": "dba4689e",
   "metadata": {},
   "source": [
    "d) Decomponha o efeito da queda de preço sobre a demanda do bem 1 em: efeito substituição, efeito renda comum e renda dotação, utilizando a decomposição de Slutsky.  "
   ]
  },
  {
   "cell_type": "code",
   "execution_count": 10,
   "id": "7cb211ef",
   "metadata": {},
   "outputs": [
    {
     "name": "stdout",
     "output_type": "stream",
     "text": [
      "Efeito Total = 75.00\n",
      "Efeito Substituição = 112.50\n",
      "Efeito Renda Comum = 112.50\n",
      "Efeito Renda Dotação = -150.00\n"
     ]
    }
   ],
   "source": [
    "m0 = 20*100 + 10*100 # Renda inicial \n",
    "m2 = 5*100 + 10*100 # Renda final\n",
    "m1 = (5 - 20)*75 + m0 # Renda Compensada de Slutsky\n",
    "# Retoma os resultados iniciais (sem a substituição de m)\n",
    "x1 = Resultado[0][0]\n",
    "x2 = Resultado[0][1]\n",
    "# Efeito Total\n",
    "ET = x1.subs([(p1, 5), (p2, 10), (m, m2)]) - x1.subs([(p1, 20), (p2, 10), (m, m0)])  \n",
    "# Efeito Substituição\n",
    "ES = x1.subs([(p1, 5), (p2, 10), (m, m1)]) - x1.subs([(p1, 20), (p2, 10), (m, m0)])  \n",
    "# Efeito Renda Comum\n",
    "ERC = x1.subs([(p1, 5), (p2, 10), (m, m0)]) - x1.subs([(p1, 5), (p2, 10), (m, m1)])  \n",
    "# Efeito Renda Dotação\n",
    "ERD = x1.subs([(p1, 5), (p2, 10), (m, m2)]) - x1.subs([(p1, 5), (p2, 10), (m, m0)])\n",
    "print(\"Efeito Total = %.2f\" % ET)\n",
    "print(\"Efeito Substituição = %.2f\" % ES)\n",
    "print(\"Efeito Renda Comum = %.2f\" % ERC)\n",
    "print(\"Efeito Renda Dotação = %.2f\" % ERD)"
   ]
  },
  {
   "cell_type": "markdown",
   "id": "bfa905d1",
   "metadata": {},
   "source": [
    "## Exemplo 4\n",
    "\n",
    "João tem uma função de utilidade $𝑈(𝑐_1, 𝑐_2) = 𝑚𝑖𝑛[𝑐_1,𝑐_2]$ em que $𝑐_1$ e $𝑐_2$ são o seu consumo nos períodos 1 e 2, respectivamente. João ganha 189 em um período e ele vai ganhar 63 no período 2. João pode pegar ou emprestar a uma taxa de juros de 10%. Não há inflação. \n",
    "\n",
    "a) João será um poupador ou tomador de empréstimo? "
   ]
  },
  {
   "cell_type": "code",
   "execution_count": 11,
   "id": "c81404e7",
   "metadata": {},
   "outputs": [
    {
     "name": "stdout",
     "output_type": "stream",
     "text": [
      "c1_eq = 129.00\n",
      "c2_eq = 129.00\n",
      "João é poupador\n"
     ]
    }
   ],
   "source": [
    "%reset -f\n",
    "from sympy import *\n",
    "c1, c2, r, m1, m2 = symbols('c1, c2, r, m1, m2', positive = True)\n",
    "r = 0.10\n",
    "U = Eq(c1, c2)\n",
    "m1 = 189\n",
    "m2 = 63\n",
    "RO = Eq((1+r)*c1 + c2, (1+r)*m1 + m2) # Restrição Orçamentária\n",
    "Resultado = solve((U, RO), [c1, c2], dict=True)\n",
    "c1_eq = Resultado[0][c1] # Salva a equação de x1 ótimo para as próximas perguntas\n",
    "c2_eq = Resultado[0][c2] # Salva a equação de x2 ótimo para as próximas perguntas\n",
    "print(\"c1_eq = %.2f\" % (c1_eq))\n",
    "print(\"c2_eq = %.2f\" % (c2_eq))\n",
    "if c1_eq > m1:\n",
    "    print(\"João é tomador de empréstimo\")\n",
    "else:\n",
    "    print(\"João é poupador\")"
   ]
  },
  {
   "cell_type": "markdown",
   "id": "e7b7ba7a",
   "metadata": {},
   "source": [
    "b) De quanto será a poupança ou empréstimo no primeiro período?"
   ]
  },
  {
   "cell_type": "code",
   "execution_count": 12,
   "id": "731aa093",
   "metadata": {},
   "outputs": [
    {
     "name": "stdout",
     "output_type": "stream",
     "text": [
      "A poupança será de 60.00 reais\n"
     ]
    }
   ],
   "source": [
    "if c1_eq > m1:\n",
    "    print(\"O empréstimo será de %.2f reais\" % (c1_eq - m1))\n",
    "else:\n",
    "    print(\"A poupança será de %.2f reais\" % (m1 - c1_eq))"
   ]
  },
  {
   "cell_type": "markdown",
   "id": "bc039d6a",
   "metadata": {},
   "source": [
    "c) O que ocorre se a renda no segundo período aumentar para 378 reais? Qual será o valor da poupança ou empréstimo no primeiro período?"
   ]
  },
  {
   "cell_type": "code",
   "execution_count": 13,
   "id": "90b6b4da",
   "metadata": {},
   "outputs": [
    {
     "name": "stdout",
     "output_type": "stream",
     "text": [
      "c1_eq = 279.00\n",
      "c2_eq = 279.00\n",
      "O empréstimo será de 90.00 reais\n"
     ]
    }
   ],
   "source": [
    "%reset -f\n",
    "from sympy import *\n",
    "c1, c2, r, m1, m2 = symbols('c1, c2, r, m1, m2', positive = True)\n",
    "r = 0.10\n",
    "U = Eq(c1, c2)\n",
    "m1 = 189\n",
    "m2 = 378\n",
    "RO = Eq((1+r)*c1 + c2, (1+r)*m1 + m2) # Restrição Orçamentária\n",
    "Resultado = solve((U, RO), [c1, c2], dict=True)\n",
    "c1_eq = Resultado[0][c1] # Salva a equação de x1 ótimo para as próximas perguntas\n",
    "c2_eq = Resultado[0][c2] # Salva a equação de x2 ótimo para as próximas perguntas\n",
    "print(\"c1_eq = %.2f\" % (c1_eq))\n",
    "print(\"c2_eq = %.2f\" % (c2_eq))\n",
    "if c1_eq > m1:\n",
    "    print(\"O empréstimo será de %.2f reais\" % (c1_eq - m1))\n",
    "else:\n",
    "    print(\"A poupança será de %.2f reais\" % (m1 - c1_eq))"
   ]
  }
 ],
 "metadata": {
  "kernelspec": {
   "display_name": "Python 3 (ipykernel)",
   "language": "python",
   "name": "python3"
  },
  "language_info": {
   "codemirror_mode": {
    "name": "ipython",
    "version": 3
   },
   "file_extension": ".py",
   "mimetype": "text/x-python",
   "name": "python",
   "nbconvert_exporter": "python",
   "pygments_lexer": "ipython3",
   "version": "3.9.12"
  }
 },
 "nbformat": 4,
 "nbformat_minor": 5
}
