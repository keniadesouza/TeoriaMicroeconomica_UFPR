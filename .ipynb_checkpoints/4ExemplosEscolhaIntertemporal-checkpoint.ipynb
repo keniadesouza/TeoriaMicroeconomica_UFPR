{
 "cells": [
  {
   "cell_type": "markdown",
   "id": "67601f76",
   "metadata": {},
   "source": [
    "# Exemplos de escolha intertemporal - Aula 15/05/2023\n",
    "\n",
    "\n",
    "## Exemplo 1\n",
    "\n",
    "Um consumidor tem preferências intertemporais descritas pela função $𝑈(𝑐_1,𝑐_2 )=c_1^2+𝑐_2^2$. Considerando uma taxa de juros de 5% (na ausência de inflação), e que a renda do consumidor no primeiro período é de 1000 e a renda no segundo período é de 1500 reais.\n",
    "\n",
    "a) Encontre as quantidades consumidas a cada período. \n",
    "\n"
   ]
  },
  {
   "cell_type": "code",
   "execution_count": 75,
   "id": "413f560a",
   "metadata": {},
   "outputs": [
    {
     "name": "stdout",
     "output_type": "stream",
     "text": [
      "Consumo no primeiro período = 863.01\n",
      "Consumo no segundo período = 1643.84\n"
     ]
    }
   ],
   "source": [
    "%reset -f\n",
    "from sympy import *\n",
    "\n",
    "c1, c2, m1, m2, r = symbols('c1, c2, m1, m2, r', positive = True)\n",
    "\n",
    "l = symbols('l')\n",
    "r = 0.05\n",
    "m1 = 1000\n",
    "m2 = 1500\n",
    "\n",
    "U = 2*c1**2 + c2**2 # Função de Utilidade\n",
    "\n",
    "L = U - l*((1+r)*c1 + c2 - (1+r)*m1 - m2) # Lagrangeano\n",
    "\n",
    "# Condições de primeira ordem\n",
    "E1 = Eq(diff(L,c1), 0)\n",
    "E2 = Eq(diff(L,c2), 0)\n",
    "E3 = Eq(diff(L, l), 0)\n",
    "\n",
    "# Resultado\n",
    "Resultado = solve((E1, E2, E3), [c1, c2, l], dict=True)\n",
    "c1_eq = Resultado[0][c1] # Salva a equação de x1 ótimo para as próximas perguntas\n",
    "c2_eq = Resultado[0][c2] # Salva a equação de x2 ótimo para as próximas perguntas\n",
    "\n",
    "print(\"Consumo no primeiro período = %.2f\" % c1_eq)\n",
    "print(\"Consumo no segundo período = %.2f\" % c2_eq)"
   ]
  },
  {
   "cell_type": "markdown",
   "id": "cefc84eb",
   "metadata": {},
   "source": [
    "b) Esse consumidor é poupador ou tomador de empréstimo? Qual é o valor de sua poupança ou de seu empréstimo?"
   ]
  },
  {
   "cell_type": "code",
   "execution_count": 76,
   "id": "e9413640",
   "metadata": {},
   "outputs": [
    {
     "name": "stdout",
     "output_type": "stream",
     "text": [
      "O indivíduo é poupador\n",
      "A poupança será de 136.99 reais\n"
     ]
    }
   ],
   "source": [
    "if c1_eq > m1:\n",
    "    print(\"O indivíduo é tomador de empréstimo\")\n",
    "else:\n",
    "    print(\"O indivíduo é poupador\")\n",
    "\n",
    "if c1_eq > m1:\n",
    "    print(\"O empréstimo será de %.2f reais\" % (c1_eq - m1))\n",
    "else:\n",
    "    print(\"A poupança será de %.2f reais\" % (m1 - c1_eq))"
   ]
  },
  {
   "cell_type": "markdown",
   "id": "bfa905d1",
   "metadata": {},
   "source": [
    "## Exemplo 2\n",
    "\n",
    "João tem uma função de utilidade $𝑈(𝑐_1, 𝑐_2) = 𝑚𝑖𝑛[𝑐_1,𝑐_2]$ em que $𝑐_1$ e $𝑐_2$ são o seu consumo nos períodos 1 e 2, respectivamente. João ganha 189 em um período e ele vai ganhar 63 no período 2. João pode pegar ou emprestar a uma taxa de juros de 10%. Não há inflação. \n",
    "\n",
    "a) João será um poupador ou tomador de empréstimo? "
   ]
  },
  {
   "cell_type": "code",
   "execution_count": 77,
   "id": "c81404e7",
   "metadata": {
    "scrolled": true
   },
   "outputs": [
    {
     "name": "stdout",
     "output_type": "stream",
     "text": [
      "c1_eq = 129.00\n",
      "c2_eq = 129.00\n",
      "João é poupador\n"
     ]
    }
   ],
   "source": [
    "%reset -f\n",
    "from sympy import *\n",
    "c1, c2, r, m1, m2 = symbols('c1, c2, r, m1, m2', positive = True)\n",
    "r = 0.10\n",
    "U = Eq(c1, c2)\n",
    "m1 = 189\n",
    "m2 = 63\n",
    "RO = Eq((1+r)*c1 + c2, (1+r)*m1 + m2) # Restrição Orçamentária\n",
    "Resultado = solve((U, RO), [c1, c2], dict=True)\n",
    "c1_eq = Resultado[0][c1] # Salva a equação de x1 ótimo para as próximas perguntas\n",
    "c2_eq = Resultado[0][c2] # Salva a equação de x2 ótimo para as próximas perguntas\n",
    "print(\"c1_eq = %.2f\" % (c1_eq))\n",
    "print(\"c2_eq = %.2f\" % (c2_eq))\n",
    "if c1_eq > m1:\n",
    "    print(\"João é tomador de empréstimo\")\n",
    "else:\n",
    "    print(\"João é poupador\")"
   ]
  },
  {
   "cell_type": "markdown",
   "id": "e7b7ba7a",
   "metadata": {},
   "source": [
    "b) De quanto será a poupança ou empréstimo no primeiro período?"
   ]
  },
  {
   "cell_type": "code",
   "execution_count": 78,
   "id": "731aa093",
   "metadata": {},
   "outputs": [
    {
     "name": "stdout",
     "output_type": "stream",
     "text": [
      "A poupança será de 60.00 reais\n"
     ]
    }
   ],
   "source": [
    "if c1_eq > m1:\n",
    "    print(\"O empréstimo será de %.2f reais\" % (c1_eq - m1))\n",
    "else:\n",
    "    print(\"A poupança será de %.2f reais\" % (m1 - c1_eq))"
   ]
  },
  {
   "cell_type": "markdown",
   "id": "bc039d6a",
   "metadata": {},
   "source": [
    "c) O que ocorre se a renda no segundo período aumentar para 378 reais? Qual será o valor da poupança ou empréstimo no primeiro período?"
   ]
  },
  {
   "cell_type": "code",
   "execution_count": 79,
   "id": "90b6b4da",
   "metadata": {},
   "outputs": [
    {
     "name": "stdout",
     "output_type": "stream",
     "text": [
      "c1_eq = 279.00\n",
      "c2_eq = 279.00\n",
      "O empréstimo será de 90.00 reais\n"
     ]
    }
   ],
   "source": [
    "%reset -f\n",
    "from sympy import *\n",
    "c1, c2, r, m1, m2 = symbols('c1, c2, r, m1, m2', positive = True)\n",
    "r = 0.10\n",
    "U = Eq(c1, c2)\n",
    "m1 = 189\n",
    "m2 = 378\n",
    "RO = Eq((1+r)*c1 + c2, (1+r)*m1 + m2) # Restrição Orçamentária\n",
    "Resultado = solve((U, RO), [c1, c2], dict=True)\n",
    "c1_eq = Resultado[0][c1] # Salva a equação de x1 ótimo para as próximas perguntas\n",
    "c2_eq = Resultado[0][c2] # Salva a equação de x2 ótimo para as próximas perguntas\n",
    "print(\"c1_eq = %.2f\" % (c1_eq))\n",
    "print(\"c2_eq = %.2f\" % (c2_eq))\n",
    "if c1_eq > m1:\n",
    "    print(\"O empréstimo será de %.2f reais\" % (c1_eq - m1))\n",
    "else:\n",
    "    print(\"A poupança será de %.2f reais\" % (m1 - c1_eq))"
   ]
  },
  {
   "attachments": {},
   "cell_type": "markdown",
   "id": "323b67f8",
   "metadata": {},
   "source": [
    "## Exemplo 3\n",
    "\n",
    "Suponha um consumidor que vive por dois períodos com uma função utilidade definida por $𝑢(𝑐_1,𝑐_2)=ln⁡𝑐_1 + 1,1ln⁡𝑐_2$ que identifica suas preferências pelo consumo no tempo 1, $𝑐_1$, e o consumo no tempo 2, $𝑐_2$. Considerando que o consumidor possui renda $𝑚_1=100$ e $𝑚_2=120$, que a taxa de juros é $𝑟$ e que há uma inflação $𝜋$, responda:\n",
    "\n",
    "a) Encontre a escolha ótima do consumidor, considerando uma inflação de 4,5% e uma taxa de juros (nominal) de 14,95%."
   ]
  },
  {
   "cell_type": "code",
   "execution_count": 80,
   "id": "5d917c19",
   "metadata": {},
   "outputs": [
    {
     "name": "stdout",
     "output_type": "stream",
     "text": [
      "Consumo no primeiro período = 99.57\n",
      "Consumo no segundo período = 120.48\n",
      "O indivíduo é poupador\n",
      "A poupança será de 0.43 reais\n"
     ]
    }
   ],
   "source": [
    "%reset -f\n",
    "from sympy import *\n",
    "\n",
    "c1, c2, m1, m2, r, pi, rho = symbols('c1, c2, m1, m2, r, pi, rho', positive = True)\n",
    "\n",
    "l = symbols('l')\n",
    "r = 0.1495\n",
    "pi = 0.045\n",
    "m1 = 100\n",
    "m2 = 120\n",
    "\n",
    "rho = (1+r)/(1+pi) - 1\n",
    "\n",
    "U = ln(c1) + 1.1*ln(c2) # Função de Utilidade\n",
    "\n",
    "L = U - l*((1+rho)*c1 + c2 - (1+rho)*m1 - m2) # Lagrangeano\n",
    "\n",
    "# Condições de primeira ordem\n",
    "E1 = Eq(diff(L,c1), 0)\n",
    "E2 = Eq(diff(L,c2), 0)\n",
    "E3 = Eq(diff(L, l), 0)\n",
    "\n",
    "# Resultado\n",
    "Resultado = solve((E1, E2, E3), [c1, c2, l], dict=True)\n",
    "c1_eq = Resultado[0][c1] # Salva a equação de x1 ótimo para as próximas perguntas\n",
    "c2_eq = Resultado[0][c2] # Salva a equação de x2 ótimo para as próximas perguntas\n",
    "\n",
    "print(\"Consumo no primeiro período = %.2f\" % c1_eq)\n",
    "print(\"Consumo no segundo período = %.2f\" % c2_eq)\n",
    "\n",
    "if c1_eq > m1:\n",
    "    print(\"O indivíduo é tomador de empréstimo\")\n",
    "else:\n",
    "    print(\"O indivíduo é poupador\")\n",
    "\n",
    "if c1_eq > m1:\n",
    "    print(\"O empréstimo será de %.2f reais\" % (c1_eq - m1))\n",
    "else:\n",
    "    print(\"A poupança será de %.2f reais\" % (m1 - c1_eq))"
   ]
  },
  {
   "cell_type": "markdown",
   "id": "91499179",
   "metadata": {},
   "source": [
    "b) Considere que a inflação aumentou para 10%, isso mudaria a decisão do agente? Qual seria o novo consumo em cada período? Qual seria o valor da poupança ou empréstimo no primeiro período?"
   ]
  },
  {
   "cell_type": "code",
   "execution_count": 81,
   "id": "09d41eea",
   "metadata": {},
   "outputs": [
    {
     "name": "stdout",
     "output_type": "stream",
     "text": [
      "Consumo no primeiro período = 102.05\n",
      "Consumo no segundo período = 117.85\n",
      "O indivíduo é tomador de empréstimo\n",
      "O empréstimo será de 2.05 reais\n"
     ]
    }
   ],
   "source": [
    "%reset -f\n",
    "from sympy import *\n",
    "\n",
    "c1, c2, m1, m2, r, pi, rho = symbols('c1, c2, m1, m2, r, pi, rho', positive = True)\n",
    "\n",
    "l = symbols('l')\n",
    "r = 0.1495\n",
    "pi = 0.095\n",
    "m1 = 100\n",
    "m2 = 120\n",
    "\n",
    "rho = (1+r)/(1+pi) - 1\n",
    "\n",
    "U = ln(c1) + 1.1*ln(c2) # Função de Utilidade\n",
    "\n",
    "L = U - l*((1+rho)*c1 + c2 - (1+rho)*m1 - m2) # Lagrangeano\n",
    "\n",
    "# Condições de primeira ordem\n",
    "E1 = Eq(diff(L,c1), 0)\n",
    "E2 = Eq(diff(L,c2), 0)\n",
    "E3 = Eq(diff(L, l), 0)\n",
    "\n",
    "# Resultado\n",
    "Resultado = solve((E1, E2, E3), [c1, c2, l], dict=True)\n",
    "c1_eq = Resultado[0][c1] # Salva a equação de x1 ótimo para as próximas perguntas\n",
    "c2_eq = Resultado[0][c2] # Salva a equação de x2 ótimo para as próximas perguntas\n",
    "\n",
    "print(\"Consumo no primeiro período = %.2f\" % c1_eq)\n",
    "print(\"Consumo no segundo período = %.2f\" % c2_eq)\n",
    "\n",
    "if c1_eq > m1:\n",
    "    print(\"O indivíduo é tomador de empréstimo\")\n",
    "else:\n",
    "    print(\"O indivíduo é poupador\")\n",
    "\n",
    "if c1_eq > m1:\n",
    "    print(\"O empréstimo será de %.2f reais\" % (c1_eq - m1))\n",
    "else:\n",
    "    print(\"A poupança será de %.2f reais\" % (m1 - c1_eq))"
   ]
  }
 ],
 "metadata": {
  "kernelspec": {
   "display_name": "Python 3 (ipykernel)",
   "language": "python",
   "name": "python3"
  },
  "language_info": {
   "codemirror_mode": {
    "name": "ipython",
    "version": 3
   },
   "file_extension": ".py",
   "mimetype": "text/x-python",
   "name": "python",
   "nbconvert_exporter": "python",
   "pygments_lexer": "ipython3",
   "version": "3.9.12"
  }
 },
 "nbformat": 4,
 "nbformat_minor": 5
}
